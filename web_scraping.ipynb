{
 "cells": [
  {
   "cell_type": "code",
   "execution_count": 9,
   "metadata": {},
   "outputs": [],
   "source": [
    "from selenium import webdriver\n",
    "from selenium.webdriver.chrome.service import Service\n",
    "from selenium.webdriver.chrome.options import Options\n",
    "from selenium.webdriver.common.by import By\n",
    "from selenium.webdriver.support.ui import WebDriverWait\n",
    "from selenium.webdriver.support import expected_conditions as EC\n",
    "from selenium.webdriver.common.keys import Keys\n",
    "import time"
   ]
  },
  {
   "cell_type": "code",
   "execution_count": null,
   "metadata": {},
   "outputs": [],
   "source": [
    "CHROME_DRIVER_PATH = \"\" #PATH TO YOUR CHROME DRIVER CHANGE THIS LINE\n",
    "URL = \"https://store.steampowered.com/specials?snr=1_4_4__125#tab=TopSellers\""
   ]
  },
  {
   "cell_type": "code",
   "execution_count": 11,
   "metadata": {},
   "outputs": [],
   "source": [
    "options = Options()\n",
    "options.add_argument(\"start-maximized\")\n",
    "#options.add_argument(\"--headless\")"
   ]
  },
  {
   "cell_type": "code",
   "execution_count": 12,
   "metadata": {},
   "outputs": [],
   "source": [
    "def sales_from_steam():\n",
    "    driver = webdriver.Chrome(service=Service(CHROME_DRIVER_PATH), options=options)\n",
    "    print(f\"Navigating to: {URL}\")\n",
    "    driver.get(URL)\n",
    "\n",
    "    try:\n",
    "        WebDriverWait(driver, 10).until(\n",
    "            EC.presence_of_element_located((By.ID, 'SaleSection_13268'))\n",
    "        )\n",
    "\n",
    "        # Scroll to bottom to load all items\n",
    "        last_height = driver.execute_script(\"return document.body.scrollHeight\")\n",
    "        while True:\n",
    "            driver.execute_script(\"window.scrollTo(0, document.body.scrollHeight);\")\n",
    "            time.sleep(1)\n",
    "            new_height = driver.execute_script(\"return document.body.scrollHeight\")\n",
    "            if new_height == last_height:\n",
    "                break\n",
    "            last_height = new_height\n",
    "\n",
    "        # Find all game containers\n",
    "        game_containers = driver.find_elements(By.CSS_SELECTOR, 'div.v9uRg57bwOaPsvAnkXESO')\n",
    "\n",
    "        games = []\n",
    "\n",
    "        for game in game_containers:\n",
    "            try:\n",
    "                title = game.find_element(By.CSS_SELECTOR, 'div.StoreSaleWidgetTitle').text\n",
    "                discount = game.find_element(By.CSS_SELECTOR, 'div.cnkoFkzVCby40gJ0jGGS4').text\n",
    "                \n",
    "                # Try to get prices (some games may not have both old and new prices)\n",
    "                try:\n",
    "                    old_price = game.find_element(By.CSS_SELECTOR, 'div._3fFFsvII7Y2KXNLDk_krOW').text\n",
    "                    new_price = game.find_element(By.CSS_SELECTOR, 'div._3j4dI1yA7cRfCvK8h406OB').text\n",
    "                except:\n",
    "                    old_price = new_price = \"N/A\"\n",
    "\n",
    "                games.append({\n",
    "                    'title': title,\n",
    "                    'discount': discount,\n",
    "                    'old_price': old_price,\n",
    "                    'new_price': new_price\n",
    "                })\n",
    "\n",
    "            except Exception as e:\n",
    "                print(f\"Error parsing a game: {e}\")\n",
    "                continue\n",
    "        return games\n",
    "\n",
    "    except Exception as e:\n",
    "        print(f\"Error: {e}\")\n",
    "    finally:\n",
    "        driver.quit()\n"
   ]
  },
  {
   "cell_type": "code",
   "execution_count": 13,
   "metadata": {},
   "outputs": [],
   "source": [
    "def search_game_by_price(game_name, target_price):\n",
    "    driver = webdriver.Chrome(service=Service(CHROME_DRIVER_PATH), options=options)\n",
    "    \n",
    "    try:\n",
    "        # Navigate to Steam store\n",
    "        driver.get('https://store.steampowered.com/')\n",
    "\n",
    "        # Wait for the search box to be present\n",
    "        WebDriverWait(driver, 10).until(\n",
    "            EC.presence_of_element_located((By.ID, 'store_nav_search_term'))\n",
    "        )\n",
    "\n",
    "        # Locate the search box and type the game name\n",
    "        search_box = driver.find_element(By.ID, 'store_nav_search_term')\n",
    "        search_box.clear()\n",
    "        search_box.send_keys(game_name)\n",
    "        search_box.send_keys(Keys.RETURN)  # Press Enter to submit the search\n",
    "\n",
    "        # Wait until the results are loaded (check for visibility of the game titles)\n",
    "        WebDriverWait(driver, 10).until(\n",
    "            EC.presence_of_all_elements_located((By.CSS_SELECTOR, 'div.responsive_search_name_combined'))\n",
    "        )\n",
    "\n",
    "        # Find the first result (game title and price)\n",
    "        first_result = driver.find_element(By.CSS_SELECTOR, 'div.responsive_search_name_combined')\n",
    "\n",
    "        # Extract the game title\n",
    "        title = first_result.find_element(By.CSS_SELECTOR, 'span.title').text.strip()\n",
    "\n",
    "        # Extract price information\n",
    "        price_block = first_result.find_element(By.CSS_SELECTOR, 'div.search_price_discount_combined')\n",
    "        \n",
    "        try:\n",
    "            # Check if the game has a discount\n",
    "            discount_block = price_block.find_element(By.CSS_SELECTOR, 'div.discount_block')\n",
    "\n",
    "            if 'no_discount' in discount_block.get_attribute('class'):\n",
    "                # No discount, get the regular price\n",
    "                final_price_element = price_block.find_element(By.CSS_SELECTOR, 'div.discount_final_price')\n",
    "                final_price = final_price_element.text.strip()\n",
    "\n",
    "                # Convert the final price to a float (remove currency symbols and replace commas)\n",
    "                final_price = float(final_price.replace('€', '').replace(',', '.').strip())\n",
    "            else:\n",
    "                # Discounted game, get the final discounted price\n",
    "                final_price_element = discount_block.find_element(By.CSS_SELECTOR, 'div.discount_final_price')\n",
    "                final_price = final_price_element.text.strip()\n",
    "\n",
    "                # Convert the final price to a float (remove currency symbols and replace commas)\n",
    "                final_price = float(final_price.replace('€', '').replace(',', '.').strip())\n",
    "\n",
    "        except Exception as e:\n",
    "            print(f\"Error extracting price for {title}: {e}\")\n",
    "            return None\n",
    "\n",
    "        # Compare the price with the target price\n",
    "        if final_price <= target_price:\n",
    "            print(f\"Game: {title}\")\n",
    "            print(f\"Price: {final_price}€\")\n",
    "            return title, final_price\n",
    "\n",
    "        print(f\"Game: {title} is not under the target price.\")\n",
    "        return None\n",
    "\n",
    "    except Exception as e:\n",
    "        print(f\"Error during search: {e}\")\n",
    "        return None\n",
    "    \n",
    "    finally:\n",
    "        driver.quit()"
   ]
  },
  {
   "cell_type": "code",
   "execution_count": 14,
   "metadata": {},
   "outputs": [
    {
     "name": "stdout",
     "output_type": "stream",
     "text": [
      "Navigating to: https://store.steampowered.com/specials?snr=1_4_4__125#tab=TopSellers\n"
     ]
    },
    {
     "data": {
      "text/plain": [
       "[{'title': \"Baldur's Gate 3\",\n",
       "  'discount': '-20%',\n",
       "  'old_price': '59,99€',\n",
       "  'new_price': '47,99€'},\n",
       " {'title': 'Devil May Cry 5',\n",
       "  'discount': '-75%',\n",
       "  'old_price': '29,99€',\n",
       "  'new_price': '7,49€'},\n",
       " {'title': 'Red Dead Redemption 2',\n",
       "  'discount': '-75%',\n",
       "  'old_price': '59,99€',\n",
       "  'new_price': '14,99€'},\n",
       " {'title': 'Devil May Cry HD Collection',\n",
       "  'discount': '-67%',\n",
       "  'old_price': '29,99€',\n",
       "  'new_price': '9,89€'},\n",
       " {'title': 'Dead by Daylight',\n",
       "  'discount': '-60%',\n",
       "  'old_price': '19,99€',\n",
       "  'new_price': '7,99€'},\n",
       " {'title': 'Sons Of The Forest',\n",
       "  'discount': '-60%',\n",
       "  'old_price': '28,99€',\n",
       "  'new_price': '11,59€'},\n",
       " {'title': 'Commandos: Origins',\n",
       "  'discount': '-10%',\n",
       "  'old_price': '49,99€',\n",
       "  'new_price': 'Prepurchase'},\n",
       " {'title': 'Devil May Cry 4 Special Edition',\n",
       "  'discount': '-70%',\n",
       "  'old_price': '24,99€',\n",
       "  'new_price': '7,49€'},\n",
       " {'title': 'Euro Truck Simulator 2',\n",
       "  'discount': '-75%',\n",
       "  'old_price': '19,99€',\n",
       "  'new_price': '4,99€'},\n",
       " {'title': 'Call of Duty®: Black Ops 6',\n",
       "  'discount': '-30%',\n",
       "  'old_price': '79,99€',\n",
       "  'new_price': '55,99€'},\n",
       " {'title': 'Balatro',\n",
       "  'discount': '-10%',\n",
       "  'old_price': '13,99€',\n",
       "  'new_price': '12,59€'},\n",
       " {'title': 'Clair Obscur: Expedition 33',\n",
       "  'discount': '-10%',\n",
       "  'old_price': '49,99€',\n",
       "  'new_price': 'Prepurchase'}]"
      ]
     },
     "execution_count": 14,
     "metadata": {},
     "output_type": "execute_result"
    }
   ],
   "source": [
    "sales_from_steam()"
   ]
  },
  {
   "cell_type": "code",
   "execution_count": 15,
   "metadata": {},
   "outputs": [
    {
     "name": "stdout",
     "output_type": "stream",
     "text": [
      "Game: Devil May Cry 5\n",
      "Price: 7.49€\n"
     ]
    },
    {
     "data": {
      "text/plain": [
       "('Devil May Cry 5', 7.49)"
      ]
     },
     "execution_count": 15,
     "metadata": {},
     "output_type": "execute_result"
    }
   ],
   "source": [
    "search_game_by_price('Devil May Cry 5', 10.00)"
   ]
  },
  {
   "cell_type": "code",
   "execution_count": 16,
   "metadata": {},
   "outputs": [
    {
     "name": "stdout",
     "output_type": "stream",
     "text": [
      "Game: Hogwarts Legacy is not under the target price.\n"
     ]
    }
   ],
   "source": [
    "search_game_by_price('hogwarts legacy', 40)"
   ]
  }
 ],
 "metadata": {
  "kernelspec": {
   "display_name": "AUPEC1",
   "language": "python",
   "name": "python3"
  },
  "language_info": {
   "codemirror_mode": {
    "name": "ipython",
    "version": 3
   },
   "file_extension": ".py",
   "mimetype": "text/x-python",
   "name": "python",
   "nbconvert_exporter": "python",
   "pygments_lexer": "ipython3",
   "version": "3.13.2"
  }
 },
 "nbformat": 4,
 "nbformat_minor": 2
}
